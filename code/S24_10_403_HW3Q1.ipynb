{
 "cells": [
  {
   "cell_type": "markdown",
   "metadata": {
    "id": "OQdKfCKbYqCO"
   },
   "source": [
    "### Setup: Import Dependencies\n",
    "Run the cell below to import the relevant dependencies."
   ]
  },
  {
   "cell_type": "code",
   "execution_count": 7,
   "metadata": {
    "id": "FChV28AmVSKu"
   },
   "outputs": [],
   "source": [
    "import numpy as np\n",
    "import matplotlib.pyplot as plt\n",
    "import gym\n",
    "import functools"
   ]
  },
  {
   "cell_type": "markdown",
   "metadata": {
    "id": "WILXO6JzTaQC"
   },
   "source": [
    "### Part 1: CMA-ES\n",
    "Implement CMA-ES below."
   ]
  },
  {
   "cell_type": "code",
   "execution_count": 8,
   "metadata": {
    "id": "zEIfLn7KTbse"
   },
   "outputs": [],
   "source": [
    "def cmaes(fn, dim, num_iter=10):\n",
    "  \"\"\"Optimizes a given function using CMA-ES.\n",
    "\n",
    "  Args:\n",
    "    fn: A function that takes as input a vector and outputs a scalar value.\n",
    "    dim: (int) The dimension of the vector that fn expects as input.\n",
    "    num_iter: (int) Number of iterations to run CMA-ES.\n",
    "\n",
    "  Returns:\n",
    "    mu_vec: An array of size [num_iter, dim] storing the value of mu at each\n",
    "      iteration.\n",
    "    best_sample_vec: A list of length [num_iter] storing the function value\n",
    "      for the best sample from each iteration of CMA-ES.\n",
    "    mean_sample_vec: A list of length [num_iter] storing the average function\n",
    "      value across samples from each iteration of CMA-ES.\n",
    "  \"\"\"\n",
    "  # Hyperparameters\n",
    "  sigma = 10\n",
    "  population_size = 100\n",
    "  p_keep = 0.10  # Fraction of population to keep\n",
    "  noise = 0.25  # Noise added to covariance to prevent it from going to 0.\n",
    "\n",
    "  # Initialize the mean and covariance\n",
    "  mu = np.zeros(dim)\n",
    "  cov = sigma**2 * np.eye(dim)\n",
    "\n",
    "  mu_vec = []\n",
    "  best_sample_vec = []\n",
    "  mean_sample_vec = []\n",
    "  n=100\n",
    "  L= int(p_keep*population_size)\n",
    "  for t in range(num_iter):\n",
    "    # WRITE CODE HERE\n",
    "    print(\"iteration: \", t)\n",
    "    samples=np.random.multivariate_normal(mu, cov, n)\n",
    "    #pdb.set_trace()\n",
    "    score_list=[]\n",
    "    for i in range(population_size):\n",
    "      #score=0\n",
    "      #for j in range(L):\n",
    "      score = fn(samples[i])\n",
    "      \n",
    "      #score = score/L\n",
    "      score_list.append(score)\n",
    "\n",
    "    #score_list.append(score)\n",
    "\n",
    "    score= np.array(score_list)\n",
    "    #pdb.set_trace()\n",
    "    elite_ind= np.argpartition(score, -L)[-L:]\n",
    "    best_cols= samples[elite_ind]\n",
    "    #best_sample_vec = np.max(score_list) #[best_cols[:,k] for k in range(best_cols.shape[1])]\n",
    "    mu=np.mean(best_cols, axis=0)\n",
    "    #print(best_cols.shape)\n",
    "    #print(mu.shape)\n",
    "    #pdb.set_trace()\n",
    "    cov = np.mean((best_cols- mu[np.newaxis,:])**2, axis=0) + noise*np.eye(dim)\n",
    "    #pdb.set_trace()\n",
    "    mu_vec.append(mu)\n",
    "    mean_sample_vec.append(np.mean(score_list))\n",
    "    best_sample_vec.append(np.max(score_list))\n",
    "\n",
    "  return mu_vec, best_sample_vec, mean_sample_vec"
   ]
  },
  {
   "cell_type": "markdown",
   "metadata": {
    "id": "4ql_mylUaFEL"
   },
   "source": [
    "In the cell below, we've defined a simply function:\n",
    "$$f(x) = -\\|x - x^*\\|_2^2 \\quad \\text{where} \\quad x^* = [65, 49].$$\n",
    "This function is optimized when $x = x^*$. Run your implementation of CMA-ES on this function, confirming that you get the correct solution."
   ]
  },
  {
   "cell_type": "code",
   "execution_count": 9,
   "metadata": {
    "id": "yUZ3MSV2VJdP"
   },
   "outputs": [
    {
     "name": "stdout",
     "output_type": "stream",
     "text": [
      "iteration:  0\n",
      "iteration:  1\n",
      "iteration:  2\n",
      "iteration:  3\n",
      "iteration:  4\n",
      "iteration:  5\n",
      "iteration:  6\n",
      "iteration:  7\n",
      "iteration:  8\n",
      "iteration:  9\n",
      "iteration:  10\n",
      "iteration:  11\n",
      "iteration:  12\n",
      "iteration:  13\n",
      "iteration:  14\n",
      "iteration:  15\n",
      "iteration:  16\n",
      "iteration:  17\n",
      "iteration:  18\n",
      "iteration:  19\n",
      "iteration:  20\n",
      "iteration:  21\n",
      "iteration:  22\n",
      "iteration:  23\n",
      "iteration:  24\n",
      "iteration:  25\n",
      "iteration:  26\n",
      "iteration:  27\n",
      "iteration:  28\n",
      "iteration:  29\n",
      "iteration:  30\n",
      "iteration:  31\n",
      "iteration:  32\n",
      "iteration:  33\n",
      "iteration:  34\n",
      "iteration:  35\n",
      "iteration:  36\n",
      "iteration:  37\n",
      "iteration:  38\n",
      "iteration:  39\n",
      "iteration:  40\n",
      "iteration:  41\n",
      "iteration:  42\n",
      "iteration:  43\n",
      "iteration:  44\n",
      "iteration:  45\n",
      "iteration:  46\n",
      "iteration:  47\n",
      "iteration:  48\n",
      "iteration:  49\n",
      "iteration:  50\n",
      "iteration:  51\n",
      "iteration:  52\n",
      "iteration:  53\n",
      "iteration:  54\n",
      "iteration:  55\n",
      "iteration:  56\n",
      "iteration:  57\n",
      "iteration:  58\n",
      "iteration:  59\n",
      "iteration:  60\n",
      "iteration:  61\n",
      "iteration:  62\n",
      "iteration:  63\n",
      "iteration:  64\n",
      "iteration:  65\n",
      "iteration:  66\n",
      "iteration:  67\n",
      "iteration:  68\n",
      "iteration:  69\n",
      "iteration:  70\n",
      "iteration:  71\n",
      "iteration:  72\n",
      "iteration:  73\n",
      "iteration:  74\n",
      "iteration:  75\n",
      "iteration:  76\n",
      "iteration:  77\n",
      "iteration:  78\n",
      "iteration:  79\n",
      "iteration:  80\n",
      "iteration:  81\n",
      "iteration:  82\n",
      "iteration:  83\n",
      "iteration:  84\n",
      "iteration:  85\n",
      "iteration:  86\n",
      "iteration:  87\n",
      "iteration:  88\n",
      "iteration:  89\n",
      "iteration:  90\n",
      "iteration:  91\n",
      "iteration:  92\n",
      "iteration:  93\n",
      "iteration:  94\n",
      "iteration:  95\n",
      "iteration:  96\n",
      "iteration:  97\n",
      "iteration:  98\n",
      "iteration:  99\n"
     ]
    },
    {
     "name": "stderr",
     "output_type": "stream",
     "text": [
      "/tmp/ipykernel_125217/601711003.py:35: RuntimeWarning: covariance is not symmetric positive-semidefinite.\n",
      "  samples=np.random.multivariate_normal(mu, cov, n)\n"
     ]
    }
   ],
   "source": [
    "def test_fn(x):\n",
    "  goal = np.array([65, 49])\n",
    "  return -np.sum((x - goal)**2)\n",
    "\n",
    "mu_vec, best_sample_vec, mean_sample_vec = cmaes(test_fn, dim=2, num_iter=100)"
   ]
  },
  {
   "cell_type": "markdown",
   "metadata": {
    "id": "v5tRptWHcvLR"
   },
   "source": [
    "Run the following cell to visualize CMA-ES."
   ]
  },
  {
   "cell_type": "code",
   "execution_count": 10,
   "metadata": {
    "id": "f6YhcWX6bCWP"
   },
   "outputs": [
    {
     "data": {
      "image/png": "[encoded data removed]",
      "text/plain": [
       "<Figure size 600x400 with 2 Axes>"
      ]
     },
     "metadata": {},
     "output_type": "display_data"
    }
   ],
   "source": [
    "x = np.stack(np.meshgrid(np.linspace(-10, 100, 30), np.linspace(-10, 100, 30)), axis=-1)\n",
    "fn_value = [test_fn(xx) for xx in x.reshape((-1, 2))]\n",
    "fn_value = np.array(fn_value).reshape((30, 30))\n",
    "plt.figure(figsize=(6, 4))\n",
    "plt.contourf(x[:, :, 0], x[:, :, 1], fn_value, levels=10)\n",
    "plt.colorbar()\n",
    "mu_vec = np.array(mu_vec)\n",
    "plt.plot(mu_vec[:, 0], mu_vec[:, 1], 'b-o')\n",
    "plt.plot([mu_vec[0, 0]], [mu_vec[0, 1]], 'r+', ms=20, label='initial value')\n",
    "plt.plot([mu_vec[-1, 0]], [mu_vec[-1, 1]], 'g+', ms=20, label='final value')\n",
    "plt.plot([65], [49], 'kx', ms=20, label='maximum')\n",
    "plt.legend()\n",
    "plt.show()"
   ]
  },
  {
   "cell_type": "markdown",
   "metadata": {
    "id": "8g30ba1xc4LN"
   },
   "source": [
    "Next, you will apply CMA-ES to a more complicating: maximizing the expected reward of a RL agent. The policy takes action LEFT with probability:\n",
    "$$\\pi(a = \\text{LEFT} \\mid s) = s \\cdot w + b,$$\n",
    "where $w \\in \\mathbb{R}^4$ and $b \\in \\mathbb{R}$ are parameters that you will optimize with CMA-ES. In the cell below, define a function that takes as input a single vector $x = (w, b)$ and the environment and returns the total (undiscounted) reward from one episode."
   ]
  },
  {
   "cell_type": "code",
   "execution_count": 61,
   "metadata": {
    "id": "sWq9HYaTVuuF"
   },
   "outputs": [],
   "source": [
    "def _sigmoid(x):\n",
    "  return 1 / (1 + np.exp(-x))\n",
    "\n",
    "def _get_action(s, params):\n",
    "  w = params[:4]\n",
    "  b = params[4]\n",
    "  p_left = _sigmoid(w @ s + b)\n",
    "  a = np.random.choice(2, p=[p_left, 1 - p_left])\n",
    "  return a\n",
    "\n",
    "def rl_fn(params, env, iters=1):\n",
    "  assert len(params) == 5 , \"params should have length 5\"\n",
    "  ## WRITE CODE HERE\n",
    "  total_rewards=0\n",
    "  total_rewards= float(total_rewards)\n",
    "  #pdb.set_trace()\n",
    "  for i in range(iters):\n",
    "    s,_= env.reset()\n",
    "    done=False\n",
    "    trunc=False\n",
    "    total=0\n",
    "    count=0\n",
    "    while not done and trunc==False :\n",
    "      count= count +1\n",
    "      #pdb.set_trace()\n",
    "      a= _get_action(s, params)\n",
    "      \n",
    "      s, r, done, trunc , _= env.step(a)\n",
    "      total += float(r)\n",
    "\n",
    "      if count==200:\n",
    "        break\n",
    "    \n",
    "    #print(\"total reward: \", total)\n",
    "    total_rewards += total/iters\n",
    "  \n",
    "  total_rewards = total_rewards\n",
    "  return total_rewards"
   ]
  },
  {
   "cell_type": "markdown",
   "metadata": {
    "id": "hLis8GoXeKg6"
   },
   "source": [
    "The cell below applies your CMA-ES implementation to the RL objective you've defined in the cell above."
   ]
  },
  {
   "cell_type": "code",
   "execution_count": 62,
   "metadata": {
    "id": "nuHlGZaEX48n"
   },
   "outputs": [
    {
     "name": "stderr",
     "output_type": "stream",
     "text": [
      "/home/kaust/anaconda3/envs/drl/lib/python3.10/site-packages/gym/envs/registration.py:555: UserWarning: \u001b[33mWARN: The environment CartPole-v0 is out of date. You should consider upgrading to version `v1`.\u001b[0m\n",
      "  logger.warn(\n",
      "/home/kaust/anaconda3/envs/drl/lib/python3.10/site-packages/gym/utils/passive_env_checker.py:233: DeprecationWarning: `np.bool8` is a deprecated alias for `np.bool_`.  (Deprecated NumPy 1.24)\n",
      "  if not isinstance(terminated, (bool, np.bool8)):\n",
      "/tmp/ipykernel_125217/601711003.py:35: RuntimeWarning: covariance is not symmetric positive-semidefinite.\n",
      "  samples=np.random.multivariate_normal(mu, cov, n)\n"
     ]
    },
    {
     "name": "stdout",
     "output_type": "stream",
     "text": [
      "iteration:  0\n",
      "iteration:  1\n",
      "iteration:  2\n",
      "iteration:  3\n",
      "iteration:  4\n",
      "iteration:  5\n",
      "iteration:  6\n",
      "iteration:  7\n",
      "iteration:  8\n",
      "iteration:  9\n"
     ]
    }
   ],
   "source": [
    "env = gym.make('CartPole-v0')\n",
    "fn_with_env = functools.partial(rl_fn, env=env)\n",
    "#print(\"done with env\")\n",
    "mu_vec, best_sample_vec, mean_sample_vec = cmaes(fn_with_env, dim=5, num_iter=10)"
   ]
  },
  {
   "cell_type": "code",
   "execution_count": 64,
   "metadata": {
    "id": "pEoIFTFvvyvk"
   },
   "outputs": [
    {
     "name": "stdout",
     "output_type": "stream",
     "text": [
      "len best sample vec:  10\n"
     ]
    },
    {
     "data": {
      "image/png": "[encoded data removed]",
      "text/plain": [
       "<Figure size 600x400 with 1 Axes>"
      ]
     },
     "metadata": {},
     "output_type": "display_data"
    }
   ],
   "source": [
    "plt.figure(figsize=(6, 4))\n",
    "print(\"len best sample vec: \", len(mean_sample_vec))\n",
    "x = np.arange(len(mean_sample_vec))\n",
    "plt.plot(x, mean_sample_vec, label='mean reward')   \n",
    "plt.plot(x, best_sample_vec, label='best reward')\n",
    "plt.legend()    \n",
    "\n",
    "plt.show()"
   ]
  },
  {
   "cell_type": "code",
   "execution_count": 65,
   "metadata": {},
   "outputs": [
    {
     "name": "stdout",
     "output_type": "stream",
     "text": [
      "15.651999999999937\n",
      "rew2:  14.390999999999943\n",
      "rew3:  9.395999999999983\n"
     ]
    }
   ],
   "source": [
    "env = gym.make('CartPole-v0')\n",
    "params= np.array([-1,-1,-1,-1,-1])\n",
    "params2= np.array([1,0,1,0,1])\n",
    "params3= np.array([0,1,2,3,4])\n",
    "rew=rl_fn(params, env, 1000)\n",
    "print(rew)\n",
    "rew2=rl_fn(params2, env, 1000)\n",
    "print(\"rew2: \", rew2)\n",
    "rew3=rl_fn(params3, env, 1000)\n",
    "print(\"rew3: \", rew3)"
   ]
  }
 ],
 "metadata": {
  "colab": {
   "provenance": []
  },
  "kernelspec": {
   "display_name": "drl",
   "language": "python",
   "name": "python3"
  },
  "language_info": {
   "codemirror_mode": {
    "name": "ipython",
    "version": 3
   },
   "file_extension": ".py",
   "mimetype": "text/x-python",
   "name": "python",
   "nbconvert_exporter": "python",
   "pygments_lexer": "ipython3",
   "version": "3.10.12"
  }
 },
 "nbformat": 4,
 "nbformat_minor": 0
}
